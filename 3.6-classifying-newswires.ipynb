{
  "nbformat": 4,
  "nbformat_minor": 0,
  "metadata": {
    "kernelspec": {
      "display_name": "Python 3",
      "language": "python",
      "name": "python3"
    },
    "language_info": {
      "codemirror_mode": {
        "name": "ipython",
        "version": 3
      },
      "file_extension": ".py",
      "mimetype": "text/x-python",
      "name": "python",
      "nbconvert_exporter": "python",
      "pygments_lexer": "ipython3",
      "version": "3.5.2"
    },
    "colab": {
      "name": "3.6-classifying-newswires.ipynb",
      "provenance": []
    }
  },
  "cells": [
    {
      "cell_type": "code",
      "metadata": {
        "id": "xOR8BiSMgzrs",
        "outputId": "88188291-230e-49c5-bdf8-5468a3755ff0",
        "colab": {
          "base_uri": "https://localhost:8080/"
        }
      },
      "source": [
        "import tensorflow as tf\n",
        "from tensorflow import keras\n",
        "print(tf.__version__)"
      ],
      "execution_count": 2,
      "outputs": [
        {
          "output_type": "stream",
          "text": [
            "2.3.0\n"
          ],
          "name": "stdout"
        }
      ]
    },
    {
      "cell_type": "code",
      "metadata": {
        "id": "xFQr3HJUguIb"
      },
      "source": [
        "# import keras\n",
        "# keras.__version__ \n",
        "# Using TensorFlow backend.\n",
        "# '2.0.8'"
      ],
      "execution_count": 3,
      "outputs": []
    },
    {
      "cell_type": "markdown",
      "metadata": {
        "id": "T7W-GwisguIe"
      },
      "source": [
        "# Classifying newswires: a multi-class classification example\n",
        "\n",
        "This notebook contains the code samples found in Chapter 3, Section 5 of [Deep Learning with Python](https://www.manning.com/books/deep-learning-with-python?a_aid=keras&a_bid=76564dff). Note that the original text features far more content, in particular further explanations and figures: in this notebook, you will only find source code and related comments.\n",
        "\n",
        "----\n",
        "\n",
        "In the previous section we saw how to classify vector inputs into two mutually exclusive classes using a densely-connected neural network. \n",
        "But what happens when you have more than two classes? \n",
        "\n",
        "In this section, we will build a network to classify Reuters newswires into 46 different mutually-exclusive topics. Since we have many \n",
        "classes, this problem is an instance of \"multi-class classification\", and since each data point should be classified into only one \n",
        "category, the problem is more specifically an instance of \"single-label, multi-class classification\". If each data point could have \n",
        "belonged to multiple categories (in our case, topics) then we would be facing a \"multi-label, multi-class classification\" problem."
      ]
    },
    {
      "cell_type": "markdown",
      "metadata": {
        "id": "zYwoJK-SguIf"
      },
      "source": [
        "## The Reuters dataset\n",
        "\n",
        "\n",
        "We will be working with the _Reuters dataset_, a set of short newswires and their topics, published by Reuters in 1986. It's a very simple, \n",
        "widely used toy dataset for text classification. There are 46 different topics; some topics are more represented than others, but each \n",
        "topic has at least 10 examples in the training set.\n",
        "\n",
        "Like IMDB and MNIST, the Reuters dataset comes packaged as part of Keras. Let's take a look right away:"
      ]
    },
    {
      "cell_type": "code",
      "metadata": {
        "id": "D9IATn4dguIf",
        "outputId": "a808c980-454c-4242-8387-5c280fb5afb8",
        "colab": {
          "base_uri": "https://localhost:8080/"
        }
      },
      "source": [
        "from keras.datasets import reuters\n",
        "\n",
        "(train_data, train_labels), (test_data, test_labels) = reuters.load_data(num_words=10000)"
      ],
      "execution_count": 4,
      "outputs": [
        {
          "output_type": "stream",
          "text": [
            "Downloading data from https://storage.googleapis.com/tensorflow/tf-keras-datasets/reuters.npz\n",
            "2113536/2110848 [==============================] - 0s 0us/step\n"
          ],
          "name": "stdout"
        }
      ]
    },
    {
      "cell_type": "markdown",
      "metadata": {
        "id": "fDUdYSTJguIi"
      },
      "source": [
        "\n",
        "Like with the IMDB dataset, the argument `num_words=10000` restricts the data to the 10,000 most frequently occurring words found in the \n",
        "data.\n",
        "\n",
        "We have 8,982 training examples and 2,246 test examples:"
      ]
    },
    {
      "cell_type": "code",
      "metadata": {
        "id": "lD53_HowguIi",
        "outputId": "7013abf5-afdd-4221-e2dd-d6458e4bc60e",
        "colab": {
          "base_uri": "https://localhost:8080/"
        }
      },
      "source": [
        "len(train_data)"
      ],
      "execution_count": 5,
      "outputs": [
        {
          "output_type": "execute_result",
          "data": {
            "text/plain": [
              "8982"
            ]
          },
          "metadata": {
            "tags": []
          },
          "execution_count": 5
        }
      ]
    },
    {
      "cell_type": "code",
      "metadata": {
        "id": "U0zYjUg5guIk",
        "outputId": "fe6b5fb3-8bd0-4cae-d0b3-22b24611583d",
        "colab": {
          "base_uri": "https://localhost:8080/"
        }
      },
      "source": [
        "len(test_data)"
      ],
      "execution_count": 6,
      "outputs": [
        {
          "output_type": "execute_result",
          "data": {
            "text/plain": [
              "2246"
            ]
          },
          "metadata": {
            "tags": []
          },
          "execution_count": 6
        }
      ]
    },
    {
      "cell_type": "markdown",
      "metadata": {
        "id": "d7BjBUpIguIn"
      },
      "source": [
        "As with the IMDB reviews, each example is a list of integers (word indices):"
      ]
    },
    {
      "cell_type": "code",
      "metadata": {
        "id": "v0XTvkRzguIn",
        "outputId": "1cf65ca0-d3ab-4b61-df84-36ace78369c6",
        "colab": {
          "base_uri": "https://localhost:8080/"
        }
      },
      "source": [
        "train_data[10]"
      ],
      "execution_count": 7,
      "outputs": [
        {
          "output_type": "execute_result",
          "data": {
            "text/plain": [
              "[1,\n",
              " 245,\n",
              " 273,\n",
              " 207,\n",
              " 156,\n",
              " 53,\n",
              " 74,\n",
              " 160,\n",
              " 26,\n",
              " 14,\n",
              " 46,\n",
              " 296,\n",
              " 26,\n",
              " 39,\n",
              " 74,\n",
              " 2979,\n",
              " 3554,\n",
              " 14,\n",
              " 46,\n",
              " 4689,\n",
              " 4329,\n",
              " 86,\n",
              " 61,\n",
              " 3499,\n",
              " 4795,\n",
              " 14,\n",
              " 61,\n",
              " 451,\n",
              " 4329,\n",
              " 17,\n",
              " 12]"
            ]
          },
          "metadata": {
            "tags": []
          },
          "execution_count": 7
        }
      ]
    },
    {
      "cell_type": "markdown",
      "metadata": {
        "id": "RFmZRQ3MguIp"
      },
      "source": [
        "Here's how you can decode it back to words, in case you are curious:"
      ]
    },
    {
      "cell_type": "code",
      "metadata": {
        "id": "CoadMthMguIp",
        "outputId": "43ff1f17-3ad9-4cee-ce0b-7b45d0ba21aa",
        "colab": {
          "base_uri": "https://localhost:8080/"
        }
      },
      "source": [
        "word_index = reuters.get_word_index()\n",
        "reverse_word_index = dict([(value, key) for (key, value) in word_index.items()])\n",
        "# Note that our indices were offset by 3\n",
        "# because 0, 1 and 2 are reserved indices for \"padding\", \"start of sequence\", and \"unknown\".\n",
        "decoded_newswire = ' '.join([reverse_word_index.get(i - 3, '?') for i in train_data[0]])"
      ],
      "execution_count": 8,
      "outputs": [
        {
          "output_type": "stream",
          "text": [
            "Downloading data from https://storage.googleapis.com/tensorflow/tf-keras-datasets/reuters_word_index.json\n",
            "557056/550378 [==============================] - 0s 0us/step\n"
          ],
          "name": "stdout"
        }
      ]
    },
    {
      "cell_type": "code",
      "metadata": {
        "id": "wAtg1RSZguIs",
        "outputId": "5bddfd6e-3d5e-4e26-fc0d-f7375b66554f",
        "colab": {
          "base_uri": "https://localhost:8080/",
          "height": 68
        }
      },
      "source": [
        "decoded_newswire"
      ],
      "execution_count": 9,
      "outputs": [
        {
          "output_type": "execute_result",
          "data": {
            "application/vnd.google.colaboratory.intrinsic+json": {
              "type": "string"
            },
            "text/plain": [
              "'? ? ? said as a result of its december acquisition of space co it expects earnings per share in 1987 of 1 15 to 1 30 dlrs per share up from 70 cts in 1986 the company said pretax net should rise to nine to 10 mln dlrs from six mln dlrs in 1986 and rental operation revenues to 19 to 22 mln dlrs from 12 5 mln dlrs it said cash flow per share this year should be 2 50 to three dlrs reuter 3'"
            ]
          },
          "metadata": {
            "tags": []
          },
          "execution_count": 9
        }
      ]
    },
    {
      "cell_type": "markdown",
      "metadata": {
        "id": "F-BuLQ8iguIu"
      },
      "source": [
        "The label associated with an example is an integer between 0 and 45: a topic index."
      ]
    },
    {
      "cell_type": "code",
      "metadata": {
        "id": "Px0mFhlyguIu",
        "outputId": "bd3f72d0-4a71-47b3-c6ff-4c8526d3a0de",
        "colab": {
          "base_uri": "https://localhost:8080/"
        }
      },
      "source": [
        "train_labels[10]"
      ],
      "execution_count": 10,
      "outputs": [
        {
          "output_type": "execute_result",
          "data": {
            "text/plain": [
              "3"
            ]
          },
          "metadata": {
            "tags": []
          },
          "execution_count": 10
        }
      ]
    },
    {
      "cell_type": "markdown",
      "metadata": {
        "id": "T2fWr88YguIw"
      },
      "source": [
        "## Preparing the data\n",
        "\n",
        "We can vectorize the data with the exact same code as in our previous example:"
      ]
    },
    {
      "cell_type": "code",
      "metadata": {
        "id": "8kFZDcm8guIx"
      },
      "source": [
        "import numpy as np\n",
        "\n",
        "def vectorize_sequences(sequences, dimension=10000):\n",
        "    results = np.zeros((len(sequences), dimension))\n",
        "    for i, sequence in enumerate(sequences):\n",
        "        results[i, sequence] = 1.\n",
        "    return results\n",
        "\n",
        "# Our vectorized training data\n",
        "x_train = vectorize_sequences(train_data)\n",
        "# Our vectorized test data\n",
        "x_test = vectorize_sequences(test_data)"
      ],
      "execution_count": 11,
      "outputs": []
    },
    {
      "cell_type": "markdown",
      "metadata": {
        "id": "lTXbxdfcguIz"
      },
      "source": [
        "\n",
        "To vectorize the labels, there are two possibilities: we could just cast the label list as an integer tensor, or we could use a \"one-hot\" \n",
        "encoding. One-hot encoding is a widely used format for categorical data, also called \"categorical encoding\". \n",
        "For a more detailed explanation of one-hot encoding, you can refer to Chapter 6, Section 1. \n",
        "In our case, one-hot encoding of our labels consists in embedding each label as an all-zero vector with a 1 in the place of the label index, e.g.:"
      ]
    },
    {
      "cell_type": "code",
      "metadata": {
        "id": "zYPZ2rNxguIz"
      },
      "source": [
        "def to_one_hot(labels, dimension=46):\n",
        "    results = np.zeros((len(labels), dimension))\n",
        "    for i, label in enumerate(labels):\n",
        "        results[i, label] = 1.\n",
        "    return results\n",
        "\n",
        "# Our vectorized training labels\n",
        "one_hot_train_labels = to_one_hot(train_labels)\n",
        "# Our vectorized test labels\n",
        "one_hot_test_labels = to_one_hot(test_labels)"
      ],
      "execution_count": 12,
      "outputs": []
    },
    {
      "cell_type": "markdown",
      "metadata": {
        "id": "0WJEaS_zguI1"
      },
      "source": [
        "Note that there is a built-in way to do this in Keras, which you have already seen in action in our MNIST example:"
      ]
    },
    {
      "cell_type": "code",
      "metadata": {
        "id": "yLvTACLBguI1"
      },
      "source": [
        "from keras.utils.np_utils import to_categorical\n",
        "\n",
        "one_hot_train_labels = to_categorical(train_labels)\n",
        "one_hot_test_labels = to_categorical(test_labels)"
      ],
      "execution_count": 13,
      "outputs": []
    },
    {
      "cell_type": "markdown",
      "metadata": {
        "id": "e-1AzRNKguI4"
      },
      "source": [
        "## Building our network\n",
        "\n",
        "\n",
        "This topic classification problem looks very similar to our previous movie review classification problem: in both cases, we are trying to \n",
        "classify short snippets of text. There is however a new constraint here: the number of output classes has gone from 2 to 46, i.e. the \n",
        "dimensionality of the output space is much larger. \n",
        "\n",
        "In a stack of `Dense` layers like what we were using, each layer can only access information present in the output of the previous layer. \n",
        "If one layer drops some information relevant to the classification problem, this information can never be recovered by later layers: each \n",
        "layer can potentially become an \"information bottleneck\". In our previous example, we were using 16-dimensional intermediate layers, but a \n",
        "16-dimensional space may be too limited to learn to separate 46 different classes: such small layers may act as information bottlenecks, \n",
        "permanently dropping relevant information.\n",
        "\n",
        "For this reason we will use larger layers. Let's go with 64 units:"
      ]
    },
    {
      "cell_type": "code",
      "metadata": {
        "id": "xmmsMf0fguI4"
      },
      "source": [
        "from keras import models\n",
        "from keras import layers\n",
        "\n",
        "model = models.Sequential()\n",
        "model.add(layers.Dense(64, activation='relu', input_shape=(10000,)))\n",
        "model.add(layers.Dense(64, activation='relu'))\n",
        "model.add(layers.Dense(46, activation='softmax'))"
      ],
      "execution_count": 14,
      "outputs": []
    },
    {
      "cell_type": "markdown",
      "metadata": {
        "id": "dLaLq78BguI6"
      },
      "source": [
        "\n",
        "There are two other things you should note about this architecture:\n",
        "\n",
        "* We are ending the network with a `Dense` layer of size 46. This means that for each input sample, our network will output a \n",
        "46-dimensional vector. Each entry in this vector (each dimension) will encode a different output class.\n",
        "* The last layer uses a `softmax` activation. You have already seen this pattern in the MNIST example. It means that the network will \n",
        "output a _probability distribution_ over the 46 different output classes, i.e. for every input sample, the network will produce a \n",
        "46-dimensional output vector where `output[i]` is the probability that the sample belongs to class `i`. The 46 scores will sum to 1.\n",
        "\n",
        "The best loss function to use in this case is `categorical_crossentropy`. It measures the distance between two probability distributions: \n",
        "in our case, between the probability distribution output by our network, and the true distribution of the labels. By minimizing the \n",
        "distance between these two distributions, we train our network to output something as close as possible to the true labels."
      ]
    },
    {
      "cell_type": "code",
      "metadata": {
        "id": "UXh38OguguI7"
      },
      "source": [
        "model.compile(optimizer='rmsprop',\n",
        "              loss='categorical_crossentropy',\n",
        "              metrics=['accuracy'])"
      ],
      "execution_count": 15,
      "outputs": []
    },
    {
      "cell_type": "markdown",
      "metadata": {
        "id": "pZrisGtFguI9"
      },
      "source": [
        "## Validating our approach\n",
        "\n",
        "Let's set apart 1,000 samples in our training data to use as a validation set:"
      ]
    },
    {
      "cell_type": "code",
      "metadata": {
        "id": "8x5yyiwxguI9"
      },
      "source": [
        "x_val = x_train[:1000]\n",
        "partial_x_train = x_train[1000:]\n",
        "\n",
        "y_val = one_hot_train_labels[:1000]\n",
        "partial_y_train = one_hot_train_labels[1000:]"
      ],
      "execution_count": 16,
      "outputs": []
    },
    {
      "cell_type": "markdown",
      "metadata": {
        "id": "H4OC1krvguI_"
      },
      "source": [
        "Now let's train our network for 20 epochs:"
      ]
    },
    {
      "cell_type": "code",
      "metadata": {
        "id": "rLcBCTrUguI_",
        "outputId": "745d250e-7f59-4857-e670-25095f9ff1d7",
        "colab": {
          "base_uri": "https://localhost:8080/"
        }
      },
      "source": [
        "history = model.fit(partial_x_train,\n",
        "                    partial_y_train,\n",
        "                    epochs=20,\n",
        "                    batch_size=512,\n",
        "                    validation_data=(x_val, y_val))"
      ],
      "execution_count": 17,
      "outputs": [
        {
          "output_type": "stream",
          "text": [
            "Epoch 1/20\n",
            "16/16 [==============================] - 1s 52ms/step - loss: 2.5260 - accuracy: 0.4722 - val_loss: 1.7132 - val_accuracy: 0.6470\n",
            "Epoch 2/20\n",
            "16/16 [==============================] - 1s 41ms/step - loss: 1.4051 - accuracy: 0.7085 - val_loss: 1.2769 - val_accuracy: 0.7360\n",
            "Epoch 3/20\n",
            "16/16 [==============================] - 1s 40ms/step - loss: 1.0458 - accuracy: 0.7737 - val_loss: 1.1330 - val_accuracy: 0.7450\n",
            "Epoch 4/20\n",
            "16/16 [==============================] - 1s 40ms/step - loss: 0.8253 - accuracy: 0.8185 - val_loss: 1.0397 - val_accuracy: 0.7810\n",
            "Epoch 5/20\n",
            "16/16 [==============================] - 1s 39ms/step - loss: 0.6636 - accuracy: 0.8631 - val_loss: 0.9644 - val_accuracy: 0.7940\n",
            "Epoch 6/20\n",
            "16/16 [==============================] - 1s 40ms/step - loss: 0.5286 - accuracy: 0.8933 - val_loss: 0.9304 - val_accuracy: 0.8050\n",
            "Epoch 7/20\n",
            "16/16 [==============================] - 1s 40ms/step - loss: 0.4297 - accuracy: 0.9110 - val_loss: 0.9087 - val_accuracy: 0.8180\n",
            "Epoch 8/20\n",
            "16/16 [==============================] - 1s 40ms/step - loss: 0.3481 - accuracy: 0.9296 - val_loss: 0.9212 - val_accuracy: 0.8150\n",
            "Epoch 9/20\n",
            "16/16 [==============================] - 1s 40ms/step - loss: 0.2878 - accuracy: 0.9384 - val_loss: 0.9357 - val_accuracy: 0.8050\n",
            "Epoch 10/20\n",
            "16/16 [==============================] - 1s 40ms/step - loss: 0.2473 - accuracy: 0.9450 - val_loss: 0.9378 - val_accuracy: 0.8100\n",
            "Epoch 11/20\n",
            "16/16 [==============================] - 1s 40ms/step - loss: 0.2107 - accuracy: 0.9476 - val_loss: 0.9199 - val_accuracy: 0.8220\n",
            "Epoch 12/20\n",
            "16/16 [==============================] - 1s 39ms/step - loss: 0.1867 - accuracy: 0.9523 - val_loss: 0.9327 - val_accuracy: 0.8270\n",
            "Epoch 13/20\n",
            "16/16 [==============================] - 1s 41ms/step - loss: 0.1685 - accuracy: 0.9541 - val_loss: 0.9625 - val_accuracy: 0.8210\n",
            "Epoch 14/20\n",
            "16/16 [==============================] - 1s 40ms/step - loss: 0.1546 - accuracy: 0.9543 - val_loss: 1.0494 - val_accuracy: 0.8040\n",
            "Epoch 15/20\n",
            "16/16 [==============================] - 1s 41ms/step - loss: 0.1426 - accuracy: 0.9568 - val_loss: 0.9957 - val_accuracy: 0.8150\n",
            "Epoch 16/20\n",
            "16/16 [==============================] - 1s 40ms/step - loss: 0.1351 - accuracy: 0.9544 - val_loss: 1.0118 - val_accuracy: 0.8090\n",
            "Epoch 17/20\n",
            "16/16 [==============================] - 1s 40ms/step - loss: 0.1275 - accuracy: 0.9569 - val_loss: 1.0708 - val_accuracy: 0.8030\n",
            "Epoch 18/20\n",
            "16/16 [==============================] - 1s 40ms/step - loss: 0.1208 - accuracy: 0.9573 - val_loss: 1.0834 - val_accuracy: 0.7970\n",
            "Epoch 19/20\n",
            "16/16 [==============================] - 1s 40ms/step - loss: 0.1191 - accuracy: 0.9573 - val_loss: 1.1183 - val_accuracy: 0.7960\n",
            "Epoch 20/20\n",
            "16/16 [==============================] - 1s 40ms/step - loss: 0.1134 - accuracy: 0.9567 - val_loss: 1.0884 - val_accuracy: 0.8000\n"
          ],
          "name": "stdout"
        }
      ]
    },
    {
      "cell_type": "markdown",
      "metadata": {
        "id": "y3eRdHTLguJB"
      },
      "source": [
        "Let's display its loss and accuracy curves:"
      ]
    },
    {
      "cell_type": "code",
      "metadata": {
        "id": "OfRehlc2guJB",
        "outputId": "41438073-5f3b-4399-ae09-7bb1c329fc1e",
        "colab": {
          "base_uri": "https://localhost:8080/",
          "height": 295
        }
      },
      "source": [
        "import matplotlib.pyplot as plt\n",
        "\n",
        "loss = history.history['loss']\n",
        "val_loss = history.history['val_loss']\n",
        "\n",
        "epochs = range(1, len(loss) + 1)\n",
        "\n",
        "plt.plot(epochs, loss, 'bo', label='Training loss')\n",
        "plt.plot(epochs, val_loss, 'b', label='Validation loss')\n",
        "plt.title('Training and validation loss')\n",
        "plt.xlabel('Epochs')\n",
        "plt.ylabel('Loss')\n",
        "plt.legend()\n",
        "\n",
        "plt.show()"
      ],
      "execution_count": 18,
      "outputs": [
        {
          "output_type": "display_data",
          "data": {
            "image/png": "[encoded data removed]",
            "text/plain": [
              "<Figure size 432x288 with 1 Axes>"
            ]
          },
          "metadata": {
            "tags": [],
            "needs_background": "light"
          }
        }
      ]
    },
    {
      "cell_type": "code",
      "metadata": {
        "id": "nysaNThuguJD",
        "outputId": "4966c614-ec49-4810-c56c-b749016b18da",
        "colab": {
          "base_uri": "https://localhost:8080/",
          "height": 295
        }
      },
      "source": [
        "# plt.clf()   # clear figure\n",
        "\n",
        "acc = history.history['accuracy']\n",
        "val_acc = history.history['val_accuracy']\n",
        "\n",
        "plt.plot(epochs, acc, 'bo', label='Training acc')\n",
        "plt.plot(epochs, val_acc, 'b', label='Validation acc')\n",
        "plt.title('Training and validation accuracy')\n",
        "plt.xlabel('Epochs')\n",
        "plt.ylabel('Accuracy')\n",
        "plt.legend()\n",
        "\n",
        "plt.show()"
      ],
      "execution_count": 21,
      "outputs": [
        {
          "output_type": "display_data",
          "data": {
            "image/png": "[encoded data removed]",
            "text/plain": [
              "<Figure size 432x288 with 1 Axes>"
            ]
          },
          "metadata": {
            "tags": [],
            "needs_background": "light"
          }
        }
      ]
    },
    {
      "cell_type": "markdown",
      "metadata": {
        "id": "DZOgclGOguJF"
      },
      "source": [
        "It seems that the network starts overfitting after 8 epochs. Let's train a new network from scratch for 8 epochs, then let's evaluate it on \n",
        "the test set:"
      ]
    },
    {
      "cell_type": "code",
      "metadata": {
        "id": "_9cCUUSdguJF",
        "outputId": "2a5c63f9-e5f4-48d2-a089-412818b0ebdc",
        "colab": {
          "base_uri": "https://localhost:8080/"
        }
      },
      "source": [
        "model = models.Sequential()\n",
        "model.add(layers.Dense(64, activation='relu', input_shape=(10000,)))\n",
        "model.add(layers.Dense(64, activation='relu'))\n",
        "model.add(layers.Dense(46, activation='softmax'))\n",
        "\n",
        "model.compile(optimizer='rmsprop',\n",
        "              loss='categorical_crossentropy',\n",
        "              metrics=['accuracy'])\n",
        "model.fit(partial_x_train,\n",
        "          partial_y_train,\n",
        "          epochs=8,\n",
        "          batch_size=512,\n",
        "          validation_data=(x_val, y_val))\n",
        "\n",
        "results = model.evaluate(x_test, one_hot_test_labels)\n",
        "# 16/16 [==============================] - 1s 40ms/step - loss: 0.3714 - accuracy: 0.9214 - val_loss: 0.9116 - val_accuracy: 0.8160\n",
        "# 71/71 [==============================] - 0s 2ms/step - loss: 1.0007 - accuracy: 0.7832"
      ],
      "execution_count": 22,
      "outputs": [
        {
          "output_type": "stream",
          "text": [
            "Epoch 1/8\n",
            "16/16 [==============================] - 1s 48ms/step - loss: 2.7552 - accuracy: 0.4935 - val_loss: 1.8194 - val_accuracy: 0.6060\n",
            "Epoch 2/8\n",
            "16/16 [==============================] - 1s 40ms/step - loss: 1.5045 - accuracy: 0.6759 - val_loss: 1.3716 - val_accuracy: 0.6940\n",
            "Epoch 3/8\n",
            "16/16 [==============================] - 1s 40ms/step - loss: 1.1173 - accuracy: 0.7640 - val_loss: 1.1918 - val_accuracy: 0.7520\n",
            "Epoch 4/8\n",
            "16/16 [==============================] - 1s 40ms/step - loss: 0.8808 - accuracy: 0.8162 - val_loss: 1.0910 - val_accuracy: 0.7590\n",
            "Epoch 5/8\n",
            "16/16 [==============================] - 1s 40ms/step - loss: 0.7064 - accuracy: 0.8504 - val_loss: 0.9948 - val_accuracy: 0.7890\n",
            "Epoch 6/8\n",
            "16/16 [==============================] - 1s 42ms/step - loss: 0.5643 - accuracy: 0.8804 - val_loss: 0.9414 - val_accuracy: 0.8130\n",
            "Epoch 7/8\n",
            "16/16 [==============================] - 1s 40ms/step - loss: 0.4570 - accuracy: 0.9069 - val_loss: 0.9168 - val_accuracy: 0.8080\n",
            "Epoch 8/8\n",
            "16/16 [==============================] - 1s 40ms/step - loss: 0.3714 - accuracy: 0.9214 - val_loss: 0.9116 - val_accuracy: 0.8160\n",
            "71/71 [==============================] - 0s 2ms/step - loss: 1.0007 - accuracy: 0.7832\n"
          ],
          "name": "stdout"
        }
      ]
    },
    {
      "cell_type": "code",
      "metadata": {
        "id": "YGIcH4_JguJH",
        "outputId": "536b53c4-1c9e-4cf5-8372-e653565f4bcb",
        "colab": {
          "base_uri": "https://localhost:8080/"
        }
      },
      "source": [
        "results"
      ],
      "execution_count": 23,
      "outputs": [
        {
          "output_type": "execute_result",
          "data": {
            "text/plain": [
              "[1.00068998336792, 0.7831701040267944]"
            ]
          },
          "metadata": {
            "tags": []
          },
          "execution_count": 23
        }
      ]
    },
    {
      "cell_type": "markdown",
      "metadata": {
        "id": "_nEYq7WTguJJ"
      },
      "source": [
        "\n",
        "Our approach reaches an accuracy of ~78%. With a balanced binary classification problem, the accuracy reached by a purely random classifier \n",
        "would be 50%, but in our case it is closer to 19%, so our results seem pretty good, at least when compared to a random baseline:"
      ]
    },
    {
      "cell_type": "code",
      "metadata": {
        "id": "F7Mz0VAtguJJ",
        "outputId": "4df05441-e1cb-4079-e54e-839f9e1952fb",
        "colab": {
          "base_uri": "https://localhost:8080/"
        }
      },
      "source": [
        "import copy\n",
        "\n",
        "test_labels_copy = copy.copy(test_labels)\n",
        "np.random.shuffle(test_labels_copy)\n",
        "float(np.sum(np.array(test_labels) == np.array(test_labels_copy))) / len(test_labels)"
      ],
      "execution_count": 24,
      "outputs": [
        {
          "output_type": "execute_result",
          "data": {
            "text/plain": [
              "0.17586821015138024"
            ]
          },
          "metadata": {
            "tags": []
          },
          "execution_count": 24
        }
      ]
    },
    {
      "cell_type": "markdown",
      "metadata": {
        "id": "_VLeCqHOguJM"
      },
      "source": [
        "## Generating predictions on new data\n",
        "\n",
        "We can verify that the `predict` method of our model instance returns a probability distribution over all 46 topics. Let's generate topic \n",
        "predictions for all of the test data:"
      ]
    },
    {
      "cell_type": "code",
      "metadata": {
        "id": "BtSRjN0WguJM"
      },
      "source": [
        "predictions = model.predict(x_test)"
      ],
      "execution_count": 25,
      "outputs": []
    },
    {
      "cell_type": "markdown",
      "metadata": {
        "id": "f7jqzKyWguJO"
      },
      "source": [
        "Each entry in `predictions` is a vector of length 46:"
      ]
    },
    {
      "cell_type": "code",
      "metadata": {
        "id": "rq6u2XZaguJP",
        "outputId": "1c73aaf1-2862-4abb-c322-46bc9a9cc992",
        "colab": {
          "base_uri": "https://localhost:8080/"
        }
      },
      "source": [
        "predictions[0].shape"
      ],
      "execution_count": 26,
      "outputs": [
        {
          "output_type": "execute_result",
          "data": {
            "text/plain": [
              "(46,)"
            ]
          },
          "metadata": {
            "tags": []
          },
          "execution_count": 26
        }
      ]
    },
    {
      "cell_type": "markdown",
      "metadata": {
        "id": "t4EHW9deguJR"
      },
      "source": [
        "The coefficients in this vector sum to 1:"
      ]
    },
    {
      "cell_type": "code",
      "metadata": {
        "id": "fniv5CEFguJR",
        "outputId": "c9658eab-24f4-4db7-c9ce-4ffdda4e5ada",
        "colab": {
          "base_uri": "https://localhost:8080/"
        }
      },
      "source": [
        "np.sum(predictions[0])"
      ],
      "execution_count": 27,
      "outputs": [
        {
          "output_type": "execute_result",
          "data": {
            "text/plain": [
              "1.0"
            ]
          },
          "metadata": {
            "tags": []
          },
          "execution_count": 27
        }
      ]
    },
    {
      "cell_type": "markdown",
      "metadata": {
        "id": "bbxexfduguJT"
      },
      "source": [
        "The largest entry is the predicted class, i.e. the class with the highest probability:"
      ]
    },
    {
      "cell_type": "code",
      "metadata": {
        "id": "kfpDKINcguJT",
        "outputId": "de26868b-f649-4d72-c92f-6bad3a7a3582",
        "colab": {
          "base_uri": "https://localhost:8080/"
        }
      },
      "source": [
        "np.argmax(predictions[0])"
      ],
      "execution_count": 28,
      "outputs": [
        {
          "output_type": "execute_result",
          "data": {
            "text/plain": [
              "3"
            ]
          },
          "metadata": {
            "tags": []
          },
          "execution_count": 28
        }
      ]
    },
    {
      "cell_type": "markdown",
      "metadata": {
        "id": "gxAHM-d1guJV"
      },
      "source": [
        "## A different way to handle the labels and the loss\n",
        "\n",
        "We mentioned earlier that another way to encode the labels would be to cast them as an integer tensor, like such:"
      ]
    },
    {
      "cell_type": "code",
      "metadata": {
        "id": "hgKYUYxfguJV"
      },
      "source": [
        "y_train = np.array(train_labels)\n",
        "y_test = np.array(test_labels)"
      ],
      "execution_count": 29,
      "outputs": []
    },
    {
      "cell_type": "markdown",
      "metadata": {
        "id": "saOj0DGFguJX"
      },
      "source": [
        "\n",
        "The only thing it would change is the choice of the loss function. Our previous loss, `categorical_crossentropy`, expects the labels to \n",
        "follow a categorical encoding. With integer labels, we should use `sparse_categorical_crossentropy`:"
      ]
    },
    {
      "cell_type": "code",
      "metadata": {
        "id": "Mhj2BLU1guJX"
      },
      "source": [
        "model.compile(optimizer='rmsprop', loss='sparse_categorical_crossentropy', metrics=['acc'])"
      ],
      "execution_count": 30,
      "outputs": []
    },
    {
      "cell_type": "markdown",
      "metadata": {
        "id": "0n9bT2PfguJZ"
      },
      "source": [
        "This new loss function is still mathematically the same as `categorical_crossentropy`; it just has a different interface."
      ]
    },
    {
      "cell_type": "markdown",
      "metadata": {
        "id": "Oyvqwa9KguJa"
      },
      "source": [
        "## On the importance of having sufficiently large intermediate layers\n",
        "\n",
        "\n",
        "We mentioned earlier that since our final outputs were 46-dimensional, we should avoid intermediate layers with much less than 46 hidden \n",
        "units. Now let's try to see what happens when we introduce an information bottleneck by having intermediate layers significantly less than \n",
        "46-dimensional, e.g. 4-dimensional."
      ]
    },
    {
      "cell_type": "code",
      "metadata": {
        "id": "Gut2eDuUguJa",
        "outputId": "0b40cc3c-43a1-489b-e490-720623c2bd96",
        "colab": {
          "base_uri": "https://localhost:8080/"
        }
      },
      "source": [
        "model = models.Sequential()\n",
        "model.add(layers.Dense(64, activation='relu', input_shape=(10000,)))\n",
        "model.add(layers.Dense(4, activation='relu'))\n",
        "model.add(layers.Dense(46, activation='softmax'))\n",
        "\n",
        "model.compile(optimizer='rmsprop',\n",
        "              loss='categorical_crossentropy',\n",
        "              metrics=['accuracy'])\n",
        "model.fit(partial_x_train,\n",
        "          partial_y_train,\n",
        "          epochs=20,\n",
        "          batch_size=128,\n",
        "          validation_data=(x_val, y_val))\n",
        "\n",
        "# loss: 0.3730 - accuracy: 0.9012 - val_loss: 1.8315 - val_accuracy: 0.7050"
      ],
      "execution_count": 31,
      "outputs": [
        {
          "output_type": "stream",
          "text": [
            "Epoch 1/20\n",
            "63/63 [==============================] - 1s 16ms/step - loss: 3.1206 - accuracy: 0.3369 - val_loss: 2.6332 - val_accuracy: 0.4060\n",
            "Epoch 2/20\n",
            "63/63 [==============================] - 1s 14ms/step - loss: 2.3842 - accuracy: 0.4064 - val_loss: 2.3037 - val_accuracy: 0.4050\n",
            "Epoch 3/20\n",
            "63/63 [==============================] - 1s 14ms/step - loss: 2.0346 - accuracy: 0.4446 - val_loss: 2.0347 - val_accuracy: 0.4500\n",
            "Epoch 4/20\n",
            "63/63 [==============================] - 1s 14ms/step - loss: 1.6921 - accuracy: 0.4976 - val_loss: 1.7308 - val_accuracy: 0.5140\n",
            "Epoch 5/20\n",
            "63/63 [==============================] - 1s 14ms/step - loss: 1.2655 - accuracy: 0.7020 - val_loss: 1.4250 - val_accuracy: 0.6700\n",
            "Epoch 6/20\n",
            "63/63 [==============================] - 1s 15ms/step - loss: 1.0329 - accuracy: 0.7471 - val_loss: 1.3518 - val_accuracy: 0.6880\n",
            "Epoch 7/20\n",
            "63/63 [==============================] - 1s 15ms/step - loss: 0.9125 - accuracy: 0.7767 - val_loss: 1.3279 - val_accuracy: 0.7010\n",
            "Epoch 8/20\n",
            "63/63 [==============================] - 1s 15ms/step - loss: 0.8210 - accuracy: 0.7953 - val_loss: 1.3350 - val_accuracy: 0.7030\n",
            "Epoch 9/20\n",
            "63/63 [==============================] - 1s 14ms/step - loss: 0.7471 - accuracy: 0.8063 - val_loss: 1.3484 - val_accuracy: 0.7040\n",
            "Epoch 10/20\n",
            "63/63 [==============================] - 1s 14ms/step - loss: 0.6843 - accuracy: 0.8206 - val_loss: 1.3757 - val_accuracy: 0.7040\n",
            "Epoch 11/20\n",
            "63/63 [==============================] - 1s 14ms/step - loss: 0.6305 - accuracy: 0.8335 - val_loss: 1.3848 - val_accuracy: 0.7070\n",
            "Epoch 12/20\n",
            "63/63 [==============================] - 1s 14ms/step - loss: 0.5850 - accuracy: 0.8484 - val_loss: 1.4303 - val_accuracy: 0.7080\n",
            "Epoch 13/20\n",
            "63/63 [==============================] - 1s 14ms/step - loss: 0.5477 - accuracy: 0.8592 - val_loss: 1.4760 - val_accuracy: 0.7080\n",
            "Epoch 14/20\n",
            "63/63 [==============================] - 1s 14ms/step - loss: 0.5100 - accuracy: 0.8652 - val_loss: 1.5361 - val_accuracy: 0.7090\n",
            "Epoch 15/20\n",
            "63/63 [==============================] - 1s 14ms/step - loss: 0.4805 - accuracy: 0.8722 - val_loss: 1.6170 - val_accuracy: 0.7090\n",
            "Epoch 16/20\n",
            "63/63 [==============================] - 1s 14ms/step - loss: 0.4545 - accuracy: 0.8796 - val_loss: 1.6572 - val_accuracy: 0.7040\n",
            "Epoch 17/20\n",
            "63/63 [==============================] - 1s 14ms/step - loss: 0.4294 - accuracy: 0.8893 - val_loss: 1.6540 - val_accuracy: 0.7060\n",
            "Epoch 18/20\n",
            "63/63 [==============================] - 1s 14ms/step - loss: 0.4083 - accuracy: 0.8946 - val_loss: 1.7307 - val_accuracy: 0.7130\n",
            "Epoch 19/20\n",
            "63/63 [==============================] - 1s 14ms/step - loss: 0.3913 - accuracy: 0.8966 - val_loss: 1.7751 - val_accuracy: 0.7050\n",
            "Epoch 20/20\n",
            "63/63 [==============================] - 1s 14ms/step - loss: 0.3730 - accuracy: 0.9012 - val_loss: 1.8315 - val_accuracy: 0.7050\n"
          ],
          "name": "stdout"
        },
        {
          "output_type": "execute_result",
          "data": {
            "text/plain": [
              "<tensorflow.python.keras.callbacks.History at 0x7f3129ca90f0>"
            ]
          },
          "metadata": {
            "tags": []
          },
          "execution_count": 31
        }
      ]
    },
    {
      "cell_type": "markdown",
      "metadata": {
        "id": "-ZlxbE_FguJc"
      },
      "source": [
        "\n",
        "Our network now seems to peak at ~71% test accuracy, a 8% absolute drop. This drop is mostly due to the fact that we are now trying to \n",
        "compress a lot of information (enough information to recover the separation hyperplanes of 46 classes) into an intermediate space that is \n",
        "too low-dimensional. The network is able to cram _most_ of the necessary information into these 8-dimensional representations, but not all \n",
        "of it."
      ]
    },
    {
      "cell_type": "markdown",
      "metadata": {
        "id": "3Tx8oUnvguJf"
      },
      "source": [
        "## Further experiments\n",
        "\n",
        "* Try using larger or smaller layers: 32 units, 128 units...\n",
        "* We were using two hidden layers. Now try to use a single hidden layer, or three hidden layers."
      ]
    },
    {
      "cell_type": "markdown",
      "metadata": {
        "id": "EceCgk3HhYb2"
      },
      "source": [
        "### Using smaller layers"
      ]
    },
    {
      "cell_type": "code",
      "metadata": {
        "id": "e_E04OYahdOR",
        "outputId": "1621be51-3ebf-465d-dca2-8393b68d0ee3",
        "colab": {
          "base_uri": "https://localhost:8080/"
        }
      },
      "source": [
        "model = models.Sequential()\n",
        "model.add(layers.Dense(32, activation='relu', input_shape=(10000,)))\n",
        "model.add(layers.Dense(32, activation='relu'))\n",
        "model.add(layers.Dense(46, activation='softmax'))\n",
        "\n",
        "model.compile(optimizer='rmsprop',\n",
        "              loss='categorical_crossentropy',\n",
        "              metrics=['accuracy'])\n",
        "model.fit(partial_x_train,\n",
        "          partial_y_train,\n",
        "          epochs=8,\n",
        "          batch_size=512,\n",
        "          validation_data=(x_val, y_val))\n",
        "results = model.evaluate(x_test, one_hot_test_labels)\n",
        "\n",
        "# with 2 hidden layers each with 64 units - \n",
        "# 16/16 [==============================] - 1s 40ms/step - loss: 0.3714 - accuracy: 0.9214 - val_loss: 0.9116 - val_accuracy: 0.8160\n",
        "# 71/71 [==============================] - 0s 2ms/step - loss: 1.0007 - accuracy: 0.7832\n",
        "\n",
        "# with smaller layers (32 units) - Accuracy reduced\n",
        "\n",
        "# 16/16 [==============================] - 0s 27ms/step - loss: 0.6681 - accuracy: 0.8603 - val_loss: 0.9927 - val_accuracy: 0.7880\n",
        "# 71/71 [==============================] - 0s 2ms/step - loss: 1.0788 - accuracy: 0.7609"
      ],
      "execution_count": 32,
      "outputs": [
        {
          "output_type": "stream",
          "text": [
            "Epoch 1/8\n",
            "16/16 [==============================] - 1s 35ms/step - loss: 3.1411 - accuracy: 0.4608 - val_loss: 2.4116 - val_accuracy: 0.5830\n",
            "Epoch 2/8\n",
            "16/16 [==============================] - 0s 27ms/step - loss: 2.0220 - accuracy: 0.6190 - val_loss: 1.7528 - val_accuracy: 0.6350\n",
            "Epoch 3/8\n",
            "16/16 [==============================] - 0s 28ms/step - loss: 1.5116 - accuracy: 0.6858 - val_loss: 1.4521 - val_accuracy: 0.6800\n",
            "Epoch 4/8\n",
            "16/16 [==============================] - 0s 27ms/step - loss: 1.2285 - accuracy: 0.7397 - val_loss: 1.2815 - val_accuracy: 0.7100\n",
            "Epoch 5/8\n",
            "16/16 [==============================] - 0s 28ms/step - loss: 1.0366 - accuracy: 0.7794 - val_loss: 1.1654 - val_accuracy: 0.7490\n",
            "Epoch 6/8\n",
            "16/16 [==============================] - 0s 27ms/step - loss: 0.8911 - accuracy: 0.8121 - val_loss: 1.0919 - val_accuracy: 0.7660\n",
            "Epoch 7/8\n",
            "16/16 [==============================] - 0s 29ms/step - loss: 0.7718 - accuracy: 0.8369 - val_loss: 1.0382 - val_accuracy: 0.7740\n",
            "Epoch 8/8\n",
            "16/16 [==============================] - 0s 27ms/step - loss: 0.6681 - accuracy: 0.8603 - val_loss: 0.9927 - val_accuracy: 0.7880\n",
            "71/71 [==============================] - 0s 2ms/step - loss: 1.0788 - accuracy: 0.7609\n"
          ],
          "name": "stdout"
        }
      ]
    },
    {
      "cell_type": "markdown",
      "metadata": {
        "id": "k1bcHcymhdwS"
      },
      "source": [
        "### Using larger layers"
      ]
    },
    {
      "cell_type": "code",
      "metadata": {
        "id": "1buhDTblhgDb",
        "outputId": "c20c3b16-592c-4e3c-cddd-3a19d721a822",
        "colab": {
          "base_uri": "https://localhost:8080/"
        }
      },
      "source": [
        "model = models.Sequential()\n",
        "model.add(layers.Dense(128, activation='relu', input_shape=(10000,)))\n",
        "model.add(layers.Dense(128, activation='relu'))\n",
        "model.add(layers.Dense(46, activation='softmax'))\n",
        "\n",
        "model.compile(optimizer='rmsprop',\n",
        "              loss='categorical_crossentropy',\n",
        "              metrics=['accuracy'])\n",
        "model.fit(partial_x_train,\n",
        "          partial_y_train,\n",
        "          epochs=8,\n",
        "          batch_size=512,\n",
        "          validation_data=(x_val, y_val))\n",
        "results = model.evaluate(x_test, one_hot_test_labels)\n",
        "\n",
        "# with 2 hidden layers each with 64 units - \n",
        "# 16/16 [==============================] - 1s 40ms/step - loss: 0.3714 - accuracy: 0.9214 - val_loss: 0.9116 - val_accuracy: 0.8160\n",
        "# 71/71 [==============================] - 0s 2ms/step - loss: 1.0007 - accuracy: 0.7832\n",
        "\n",
        "# With larger layers 128 units - Accuracy increased - more time to train model\n",
        "# 16/16 [==============================] - 1s 64ms/step - loss: 0.2103 - accuracy: 0.9469 - val_loss: 0.9354 - val_accuracy: 0.8070\n",
        "# 71/71 [==============================] - 0s 3ms/step - loss: 1.0246 - accuracy: 0.7894\n",
        "\n",
        "# with smaller layers (32 units) - Accuracy reduced - less time to train model\n",
        "# 16/16 [==============================] - 0s 27ms/step - loss: 0.6681 - accuracy: 0.8603 - val_loss: 0.9927 - val_accuracy: 0.7880\n",
        "# 71/71 [==============================] - 0s 2ms/step - loss: 1.0788 - accuracy: 0.7609"
      ],
      "execution_count": 33,
      "outputs": [
        {
          "output_type": "stream",
          "text": [
            "Epoch 1/8\n",
            "16/16 [==============================] - 1s 72ms/step - loss: 2.1832 - accuracy: 0.5698 - val_loss: 1.3532 - val_accuracy: 0.7080\n",
            "Epoch 2/8\n",
            "16/16 [==============================] - 1s 65ms/step - loss: 1.0802 - accuracy: 0.7704 - val_loss: 1.1017 - val_accuracy: 0.7670\n",
            "Epoch 3/8\n",
            "16/16 [==============================] - 1s 64ms/step - loss: 0.7598 - accuracy: 0.8358 - val_loss: 0.9417 - val_accuracy: 0.8110\n",
            "Epoch 4/8\n",
            "16/16 [==============================] - 1s 66ms/step - loss: 0.5524 - accuracy: 0.8816 - val_loss: 0.8779 - val_accuracy: 0.8160\n",
            "Epoch 5/8\n",
            "16/16 [==============================] - 1s 64ms/step - loss: 0.4139 - accuracy: 0.9128 - val_loss: 0.8908 - val_accuracy: 0.8140\n",
            "Epoch 6/8\n",
            "16/16 [==============================] - 1s 64ms/step - loss: 0.3097 - accuracy: 0.9322 - val_loss: 0.8715 - val_accuracy: 0.8150\n",
            "Epoch 7/8\n",
            "16/16 [==============================] - 1s 65ms/step - loss: 0.2465 - accuracy: 0.9442 - val_loss: 0.8789 - val_accuracy: 0.8260\n",
            "Epoch 8/8\n",
            "16/16 [==============================] - 1s 64ms/step - loss: 0.2103 - accuracy: 0.9469 - val_loss: 0.9354 - val_accuracy: 0.8070\n",
            "71/71 [==============================] - 0s 3ms/step - loss: 1.0246 - accuracy: 0.7894\n"
          ],
          "name": "stdout"
        }
      ]
    },
    {
      "cell_type": "markdown",
      "metadata": {
        "id": "UP9LPHXChiov"
      },
      "source": [
        "### Using one hidden layer"
      ]
    },
    {
      "cell_type": "code",
      "metadata": {
        "id": "nZsZTofShlUP",
        "outputId": "8911fa97-02af-4426-ac7b-eecb1fd16d55",
        "colab": {
          "base_uri": "https://localhost:8080/"
        }
      },
      "source": [
        "model = models.Sequential()\n",
        "model.add(layers.Dense(64, activation='relu', input_shape=(10000,)))\n",
        "model.add(layers.Dense(46, activation='softmax'))\n",
        "\n",
        "model.compile(optimizer='rmsprop',\n",
        "              loss='categorical_crossentropy',\n",
        "              metrics=['accuracy'])\n",
        "model.fit(partial_x_train,\n",
        "          partial_y_train,\n",
        "          epochs=8,\n",
        "          batch_size=512,\n",
        "          validation_data=(x_val, y_val))\n",
        "results = model.evaluate(x_test, one_hot_test_labels)\n",
        "\n",
        "# with 2 hidden layers each with 64 units - \n",
        "# 16/16 [==============================] - 1s 40ms/step - loss: 0.3714 - accuracy: 0.9214 - val_loss: 0.9116 - val_accuracy: 0.8160\n",
        "# 71/71 [==============================] - 0s 2ms/step - loss: 1.0007 - accuracy: 0.7832\n",
        "\n",
        "# Using one hidden layer of 64 units - ??\n",
        "# 16/16 [==============================] - 1s 38ms/step - loss: 0.3722 - accuracy: 0.9266 - val_loss: 0.8357 - val_accuracy: 0.8320\n",
        "# 71/71 [==============================] - 0s 2ms/step - loss: 0.9096 - accuracy: 0.7943"
      ],
      "execution_count": 34,
      "outputs": [
        {
          "output_type": "stream",
          "text": [
            "Epoch 1/8\n",
            "16/16 [==============================] - 1s 45ms/step - loss: 2.5251 - accuracy: 0.5737 - val_loss: 1.7816 - val_accuracy: 0.6740\n",
            "Epoch 2/8\n",
            "16/16 [==============================] - 1s 38ms/step - loss: 1.4453 - accuracy: 0.7276 - val_loss: 1.3380 - val_accuracy: 0.7300\n",
            "Epoch 3/8\n",
            "16/16 [==============================] - 1s 38ms/step - loss: 1.0580 - accuracy: 0.7920 - val_loss: 1.1348 - val_accuracy: 0.7700\n",
            "Epoch 4/8\n",
            "16/16 [==============================] - 1s 39ms/step - loss: 0.8256 - accuracy: 0.8380 - val_loss: 1.0287 - val_accuracy: 0.7950\n",
            "Epoch 5/8\n",
            "16/16 [==============================] - 1s 38ms/step - loss: 0.6629 - accuracy: 0.8716 - val_loss: 0.9568 - val_accuracy: 0.8040\n",
            "Epoch 6/8\n",
            "16/16 [==============================] - 1s 39ms/step - loss: 0.5416 - accuracy: 0.8951 - val_loss: 0.8987 - val_accuracy: 0.8160\n",
            "Epoch 7/8\n",
            "16/16 [==============================] - 1s 39ms/step - loss: 0.4446 - accuracy: 0.9119 - val_loss: 0.8620 - val_accuracy: 0.8260\n",
            "Epoch 8/8\n",
            "16/16 [==============================] - 1s 38ms/step - loss: 0.3722 - accuracy: 0.9266 - val_loss: 0.8357 - val_accuracy: 0.8320\n",
            "71/71 [==============================] - 0s 2ms/step - loss: 0.9096 - accuracy: 0.7943\n"
          ],
          "name": "stdout"
        }
      ]
    },
    {
      "cell_type": "markdown",
      "metadata": {
        "id": "y0H5C9zthlvS"
      },
      "source": [
        "### Using three hidden layers\n"
      ]
    },
    {
      "cell_type": "code",
      "metadata": {
        "id": "3rQxnMp1hqRp",
        "outputId": "720f6d77-96f9-457c-f811-c7dfce5dc49f",
        "colab": {
          "base_uri": "https://localhost:8080/"
        }
      },
      "source": [
        "model = models.Sequential()\n",
        "model.add(layers.Dense(64, activation='relu', input_shape=(10000,)))\n",
        "model.add(layers.Dense(64, activation='relu'))\n",
        "model.add(layers.Dense(64, activation='relu'))\n",
        "model.add(layers.Dense(46, activation='softmax'))\n",
        "\n",
        "model.compile(optimizer='rmsprop',\n",
        "              loss='categorical_crossentropy',\n",
        "              metrics=['accuracy'])\n",
        "model.fit(partial_x_train,\n",
        "          partial_y_train,\n",
        "          epochs=8,\n",
        "          batch_size=512,\n",
        "          validation_data=(x_val, y_val))\n",
        "results = model.evaluate(x_test, one_hot_test_labels)\n",
        "\n",
        "# with 2 hidden layers each with 64 units - \n",
        "# 16/16 [==============================] - 1s 40ms/step - loss: 0.3714 - accuracy: 0.9214 - val_loss: 0.9116 - val_accuracy: 0.8160\n",
        "# 71/71 [==============================] - 0s 2ms/step - loss: 1.0007 - accuracy: 0.7832\n",
        "\n",
        "# Using one hidden layer of 64 units - ??\n",
        "# 16/16 [==============================] - 1s 38ms/step - loss: 0.3722 - accuracy: 0.9266 - val_loss: 0.8357 - val_accuracy: 0.8320\n",
        "# 71/71 [==============================] - 0s 2ms/step - loss: 0.9096 - accuracy: 0.7943\n",
        "\n",
        "#Using three hidden layers of 64 units - \n",
        "# 16/16 [==============================] - 1s 39ms/step - loss: 0.3627 - accuracy: 0.9231 - val_loss: 1.0424 - val_accuracy: 0.7780\n",
        "# 71/71 [==============================] - 0s 2ms/step - loss: 1.1477 - accuracy: 0.7498"
      ],
      "execution_count": 35,
      "outputs": [
        {
          "output_type": "stream",
          "text": [
            "Epoch 1/8\n",
            "16/16 [==============================] - 1s 46ms/step - loss: 2.7846 - accuracy: 0.4188 - val_loss: 1.7777 - val_accuracy: 0.6170\n",
            "Epoch 2/8\n",
            "16/16 [==============================] - 1s 39ms/step - loss: 1.4581 - accuracy: 0.6896 - val_loss: 1.3479 - val_accuracy: 0.7260\n",
            "Epoch 3/8\n",
            "16/16 [==============================] - 1s 39ms/step - loss: 1.1121 - accuracy: 0.7587 - val_loss: 1.1828 - val_accuracy: 0.7410\n",
            "Epoch 4/8\n",
            "16/16 [==============================] - 1s 38ms/step - loss: 0.8895 - accuracy: 0.8037 - val_loss: 1.0677 - val_accuracy: 0.7760\n",
            "Epoch 5/8\n",
            "16/16 [==============================] - 1s 39ms/step - loss: 0.7166 - accuracy: 0.8423 - val_loss: 1.0089 - val_accuracy: 0.7910\n",
            "Epoch 6/8\n",
            "16/16 [==============================] - 1s 39ms/step - loss: 0.5700 - accuracy: 0.8777 - val_loss: 0.9614 - val_accuracy: 0.8050\n",
            "Epoch 7/8\n",
            "16/16 [==============================] - 1s 39ms/step - loss: 0.4632 - accuracy: 0.9054 - val_loss: 0.9445 - val_accuracy: 0.8050\n",
            "Epoch 8/8\n",
            "16/16 [==============================] - 1s 39ms/step - loss: 0.3627 - accuracy: 0.9231 - val_loss: 1.0424 - val_accuracy: 0.7780\n",
            "71/71 [==============================] - 0s 2ms/step - loss: 1.1477 - accuracy: 0.7498\n"
          ],
          "name": "stdout"
        }
      ]
    },
    {
      "cell_type": "markdown",
      "metadata": {
        "id": "NvxDEkFthpQj"
      },
      "source": [
        ""
      ]
    },
    {
      "cell_type": "markdown",
      "metadata": {
        "id": "dxvc9LkIguJf"
      },
      "source": [
        "## Wrapping up\n",
        "\n",
        "\n",
        "Here's what you should take away from this example:\n",
        "\n",
        "* If you are trying to classify data points between N classes, your network should end with a `Dense` layer of size N.\n",
        "* In a single-label, multi-class classification problem, your network should end with a `softmax` activation, so that it will output a \n",
        "probability distribution over the N output classes.\n",
        "* _Categorical crossentropy_ is almost always the loss function you should use for such problems. It minimizes the distance between the \n",
        "probability distributions output by the network, and the true distribution of the targets.\n",
        "* There are two ways to handle labels in multi-class classification:\n",
        "    ** Encoding the labels via \"categorical encoding\" (also known as \"one-hot encoding\") and using `categorical_crossentropy` as your loss \n",
        "function.\n",
        "    ** Encoding the labels as integers and using the `sparse_categorical_crossentropy` loss function.\n",
        "* If you need to classify data into a large number of categories, then you should avoid creating information bottlenecks in your network by having \n",
        "intermediate layers that are too small."
      ]
    }
  ]
}